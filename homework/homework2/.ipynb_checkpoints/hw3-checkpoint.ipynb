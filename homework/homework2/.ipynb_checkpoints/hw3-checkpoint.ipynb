{
 "cells": [
  {
   "cell_type": "code",
   "execution_count": null,
   "metadata": {},
   "outputs": [],
   "source": [
    "import urllib.request\n",
    "import json\n",
    "import collections\n",
    "\n",
    "\n",
    "# Задаем список пользователей\n",
    "def inp():\n",
    "    l = []\n",
    "    a = input('Введите ник пользователя: ')\n",
    "    l.append(a)\n",
    "    while a != '':\n",
    "        a = input('Введите ник пользователя или нажмите Enter: ')\n",
    "        l.append(a)\n",
    "    return l\n",
    "\n",
    "\n",
    "# Проверяем, что нужный пользователь есть в списке\n",
    "def choice(l):\n",
    "    user = input('Введите ник пользователя, информацию о котором вы хотите узнать: ')\n",
    "    while user not in l:\n",
    "        print('Такого пользователя в списке нет')\n",
    "        user = input('Введите другой ник: ')\n",
    "    print('Вы выбрали пользователя ', user)\n",
    "    return user\n",
    "\n",
    "\n",
    "# Служебная функция, буквально \"достающая\" информацию с заданного url\n",
    "def getter(url):\n",
    "    response = urllib.request.urlopen(url)\n",
    "    text = response.read().decode('utf-8')\n",
    "    a = json.loads(text)\n",
    "    return a\n",
    "\n",
    "# Здесь смотрим на репозитории и языки пользователя\n",
    "def repos_info(user, repos):\n",
    "    a = []\n",
    "    data = getter(repos)\n",
    "    print('Список репозиториев пользователя ', user)\n",
    "    for i in data:\n",
    "        # print(i[\"name\"], ':', i[\"description\"]) #печатаем список репозиториев и их описания\n",
    "        a.append(i[\"language\"])  # собираем информацию по языкам, понадобится позднее\n",
    "    a = collections.Counter().most_common(2)\n",
    "    print('Самые часто используемые пользователем языки: ', a[0][0], ' и ', a[1][0])\n",
    "    print('Они используются в ', a[0][1], ' и ', a[1][1], 'репозиториях соответственно')\n",
    "\n",
    "\n",
    "# Основная функция\n",
    "def main():\n",
    "    token = input(\"Ваш токен: \")\n",
    "    l = inp()\n",
    "    user = choice(l)\n",
    "    repos = 'https://api.github.com/users/%s/repos?access_token=%s' % (user, token)\n",
    "    repos_info(user, repos)\n",
    "\n",
    "\n",
    "main()"
   ]
  }
 ],
 "metadata": {
  "kernelspec": {
   "display_name": "Python 3",
   "language": "python",
   "name": "python3"
  },
  "language_info": {
   "codemirror_mode": {
    "name": "ipython",
    "version": 3
   },
   "file_extension": ".py",
   "mimetype": "text/x-python",
   "name": "python",
   "nbconvert_exporter": "python",
   "pygments_lexer": "ipython3",
   "version": "3.6.5"
  }
 },
 "nbformat": 4,
 "nbformat_minor": 2
}
