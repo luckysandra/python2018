{
 "cells": [
  {
   "cell_type": "code",
   "execution_count": null,
   "metadata": {},
   "outputs": [],
   "source": [
    "#Задание №1\n",
    "\n",
    "\n",
    "def opener(filename):\n",
    "    with open(filename, 'r', encoding='utf-8') as f:\n",
    "        a = f.read()\n",
    "    return a\n",
    "\n",
    "\n",
    "def main1():\n",
    "    print('Задание №1')\n",
    "    a = opener('bagr.txt')\n",
    "    b = opener('mayak.txt')\n",
    "    a = set(a.split()) #делаем множество из первого стиха\n",
    "    b = set(b.split()) #делаем множество из второго стиха\n",
    "    print(a & b) #пересечение\n",
    "    print(a ^ b) #симметрическая разность\n",
    "\n",
    "main1()"
   ]
  },
  {
   "cell_type": "code",
   "execution_count": null,
   "metadata": {},
   "outputs": [],
   "source": [
    "#Задание №2\n",
    "\n",
    "\n",
    "def task2(name, phone):\n",
    "    if name not in phone:\n",
    "        print('Этого имени в телефонной книге нет')\n",
    "        phone[name] = phone.get(name, int(input('Введите телефонный номер данного абонента: ')))\n",
    "    else:\n",
    "        phone[name] = phone.get(name)\n",
    "    return phone[name]\n",
    "\n",
    "\n",
    "def main2():\n",
    "    print(\"Задание №2\")\n",
    "    d = {}\n",
    "    name = input('Введите имя: ')\n",
    "    phone = task2(name, d)\n",
    "    print(phone)\n",
    "\n",
    "main2()"
   ]
  }
 ],
 "metadata": {
  "kernelspec": {
   "display_name": "Python 3",
   "language": "python",
   "name": "python3"
  },
  "language_info": {
   "codemirror_mode": {
    "name": "ipython",
    "version": 3
   },
   "file_extension": ".py",
   "mimetype": "text/x-python",
   "name": "python",
   "nbconvert_exporter": "python",
   "pygments_lexer": "ipython3",
   "version": "3.6.5"
  }
 },
 "nbformat": 4,
 "nbformat_minor": 2
}
