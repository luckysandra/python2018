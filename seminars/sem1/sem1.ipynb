{
 "cells": [
  {
   "cell_type": "code",
   "execution_count": 11,
   "metadata": {},
   "outputs": [
    {
     "name": "stdout",
     "output_type": "stream",
     "text": [
      "я,\n"
     ]
    }
   ],
   "source": [
    "import collections\n",
    "import random\n",
    "\n",
    "#Функция для открытия файлов\n",
    "def opener(filename):\n",
    "    with open(filename, 'r', encoding=\"utf-8\") as f:\n",
    "        text = f.readlines()\n",
    "    return text\n",
    "\n",
    "#Делаем чистый словарь\n",
    "def make_dict(text):\n",
    "    f = []\n",
    "    for line in text:\n",
    "        line = line.split()\n",
    "        for word in line:\n",
    "            word = word.strip()\n",
    "            f.append(word.strip())\n",
    "    text = collections.Counter(f)\n",
    "    return text\n",
    "\n",
    "#Из словаря выбираем случайное слово с частотностью > 3\n",
    "def randomizer(text):\n",
    "    f = []\n",
    "    for keys,value in text.items():\n",
    "        if value >= 3:\n",
    "            f.append(keys)\n",
    "    return random.choice(f)\n",
    "\n",
    "def main():\n",
    "    text = opener('1stsem.txt')\n",
    "    text = make_dict(text)\n",
    "    text = randomizer(text)\n",
    "    print(text)\n",
    "        \n",
    "main()"
   ]
  },
  {
   "cell_type": "code",
   "execution_count": null,
   "metadata": {},
   "outputs": [],
   "source": []
  },
  {
   "cell_type": "code",
   "execution_count": null,
   "metadata": {},
   "outputs": [],
   "source": []
  },
  {
   "cell_type": "code",
   "execution_count": null,
   "metadata": {},
   "outputs": [],
   "source": []
  },
  {
   "cell_type": "code",
   "execution_count": null,
   "metadata": {},
   "outputs": [],
   "source": []
  }
 ],
 "metadata": {
  "kernelspec": {
   "display_name": "Python 3",
   "language": "python",
   "name": "python3"
  },
  "language_info": {
   "codemirror_mode": {
    "name": "ipython",
    "version": 3
   },
   "file_extension": ".py",
   "mimetype": "text/x-python",
   "name": "python",
   "nbconvert_exporter": "python",
   "pygments_lexer": "ipython3",
   "version": "3.6.5"
  }
 },
 "nbformat": 4,
 "nbformat_minor": 2
}
